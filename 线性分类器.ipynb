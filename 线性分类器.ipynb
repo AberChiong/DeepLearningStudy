{
 "cells": [
  {
   "cell_type": "code",
   "execution_count": 1,
   "metadata": {},
   "outputs": [],
   "source": [
    "import numpy as np\n"
   ]
  },
  {
   "cell_type": "code",
   "execution_count": 2,
   "metadata": {},
   "outputs": [],
   "source": [
    "# 线性分类器\n",
    "D = 784 # 特征数量\n",
    "K = 10 # 分类标签\n",
    "N = 128 # 样本数量\n",
    "\n",
    "X = np.random.randn(N, D)\n",
    "W = 0.01 * np.random.randn(D, K)\n",
    "b = np.zeros((1, K))\n",
    "scores = np.dot(X, W) + b"
   ]
  },
  {
   "cell_type": "code",
   "execution_count": 3,
   "metadata": {},
   "outputs": [],
   "source": [
    "# softmax损失函数\n",
    "y = np.random.randint(K, size=N)\n",
    "exp_scores = np.exp(scores)\n",
    "exp_scores_sum = np.sum(exp_scores, axis=1)\n",
    "corect_probs = exp_scores[range(N), y]/exp_scores_sum\n",
    "corect_logprobs = -np.log(corect_probs)\n",
    "data_loss = np.sum(corect_logprobs)/N\n"
   ]
  }
 ],
 "metadata": {
  "kernelspec": {
   "display_name": "Python 3",
   "language": "python",
   "name": "python3"
  },
  "language_info": {
   "codemirror_mode": {
    "name": "ipython",
    "version": 3
   },
   "file_extension": ".py",
   "mimetype": "text/x-python",
   "name": "python",
   "nbconvert_exporter": "python",
   "pygments_lexer": "ipython3",
   "version": "3.7.9"
  },
  "orig_nbformat": 4
 },
 "nbformat": 4,
 "nbformat_minor": 2
}
