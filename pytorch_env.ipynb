{
 "cells": [
  {
   "cell_type": "code",
   "execution_count": 6,
   "metadata": {},
   "outputs": [],
   "source": [
    "import torch"
   ]
  },
  {
   "cell_type": "code",
   "execution_count": 3,
   "metadata": {},
   "outputs": [
    {
     "name": "stdout",
     "output_type": "stream",
     "text": [
      "1.13.1+cu117\n",
      "True\n",
      "1\n"
     ]
    }
   ],
   "source": [
    "print(torch.__version__)\n",
    "print(torch.cuda.is_available())\n",
    "print(torch.cuda.device_count())"
   ]
  },
  {
   "cell_type": "code",
   "execution_count": 13,
   "metadata": {},
   "outputs": [],
   "source": [
    "x = torch.randn(4, 4)"
   ]
  },
  {
   "cell_type": "code",
   "execution_count": 14,
   "metadata": {},
   "outputs": [],
   "source": [
    "y = x.view(16)\n",
    "z = x.view(-1, 8)\n",
    "u = x.view(2, 8)"
   ]
  },
  {
   "cell_type": "code",
   "execution_count": 17,
   "metadata": {},
   "outputs": [
    {
     "name": "stdout",
     "output_type": "stream",
     "text": [
      "tensor([[ 1.0763,  1.2141,  0.8093, -0.7074],\n",
      "        [ 0.0920,  0.0139,  1.4872,  1.5422],\n",
      "        [ 2.4394,  0.3786,  1.7222,  0.8502],\n",
      "        [ 1.0135,  1.8577,  2.9479,  1.6265]], device='cuda:0')\n",
      "tensor([[ 1.0763,  1.2141,  0.8093, -0.7074],\n",
      "        [ 0.0920,  0.0139,  1.4872,  1.5422],\n",
      "        [ 2.4394,  0.3786,  1.7222,  0.8502],\n",
      "        [ 1.0135,  1.8577,  2.9479,  1.6265]], dtype=torch.float64)\n",
      "tensor([[ 1.0763,  1.2141,  0.8093, -0.7074],\n",
      "        [ 0.0920,  0.0139,  1.4872,  1.5422],\n",
      "        [ 2.4394,  0.3786,  1.7222,  0.8502],\n",
      "        [ 1.0135,  1.8577,  2.9479,  1.6265]])\n"
     ]
    }
   ],
   "source": [
    "# 当 CUDA 可用的时候，可用运行下方这段代码，采用 torch.device() 方法来改变 tensors 是否在 GPU 上进行计算操作\n",
    "if torch.cuda.is_available():\n",
    "    device = torch.device(\"cuda\")          # 定义一个 CUDA 设备对象\n",
    "    y = torch.ones_like(x, device=device)  # 显示创建在 GPU 上的一个 tensor\n",
    "    x = x.to(device)                       # 也可以采用 .to(\"cuda\") \n",
    "    z = x + y\n",
    "    print(z)\n",
    "    print(z.to(\"cpu\", torch.double))       # .to() 方法也可以改变数值类型\n",
    "    print(z.to(\"cpu\", torch.float32))"
   ]
  }
 ],
 "metadata": {
  "kernelspec": {
   "display_name": "Python 3",
   "language": "python",
   "name": "python3"
  },
  "language_info": {
   "codemirror_mode": {
    "name": "ipython",
    "version": 3
   },
   "file_extension": ".py",
   "mimetype": "text/x-python",
   "name": "python",
   "nbconvert_exporter": "python",
   "pygments_lexer": "ipython3",
   "version": "3.7.9"
  },
  "orig_nbformat": 4
 },
 "nbformat": 4,
 "nbformat_minor": 2
}
