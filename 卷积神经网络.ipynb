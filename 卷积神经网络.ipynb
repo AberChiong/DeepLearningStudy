{
 "cells": [
  {
   "cell_type": "code",
   "execution_count": 1,
   "metadata": {},
   "outputs": [],
   "source": [
    "import numpy as np"
   ]
  },
  {
   "attachments": {},
   "cell_type": "markdown",
   "metadata": {},
   "source": [
    "2D数据（长×宽）输入"
   ]
  },
  {
   "cell_type": "code",
   "execution_count": 2,
   "metadata": {},
   "outputs": [],
   "source": [
    "h = 32 # 输入数据的高度\n",
    "w = 48 # 输入数据的宽度\n",
    "input_2Ddata = np.random.randn(h, w) \n",
    "output_2Ddata = np.zeros(shape=(h, w)) # 卷积输出尺寸与输入一样\n"
   ]
  },
  {
   "cell_type": "code",
   "execution_count": 3,
   "metadata": {},
   "outputs": [],
   "source": [
    "kern = np.random.randn(3, 3) # 3×3卷积核\n",
    "# kern = np.array([[-1, -2, -1], [0, 0, 0], [1, 2, 1]], dtype=np.float64) # sobel卷积核"
   ]
  },
  {
   "cell_type": "code",
   "execution_count": 4,
   "metadata": {},
   "outputs": [],
   "source": [
    "padding = np.zeros(shape=(h+2, w+2)) # 0填充\n",
    "padding[1:-1, 1:-1] = input_2Ddata\n",
    "for i in range(h):\n",
    "    for j in range(w):\n",
    "        window = padding[i:i+3, j:j+3] # 中心像素(i,j)的局部窗口\n",
    "        output_2Ddata[i, j] = np.sum(kern*window) # 卷积运算即内积"
   ]
  },
  {
   "attachments": {},
   "cell_type": "markdown",
   "metadata": {},
   "source": [
    "3D数据（长×宽×通道）输入"
   ]
  },
  {
   "cell_type": "code",
   "execution_count": 2,
   "metadata": {},
   "outputs": [],
   "source": [
    "def conv2D(input_2Ddata, kern):\n",
    "    (h, w) = input_2Ddata.shape # 输入数据的高度和宽度\n",
    "    (kern_h, kern_w) = kern.shape # 卷积核的高度和宽度\n",
    "    padding_h = (kern_h-1)//2\n",
    "    padding_w = (kern_w-1)//2\n",
    "    padding = np.zeros(shape=(h+2*padding_h, w+2*padding_w)) # 0填充\n",
    "    padding[padding_h:-padding_h, padding_w:-padding_w] = input_2Ddata    \n",
    "    output_2Ddata = np.zeros(shape=(h, w)) # 输出数据的尺寸和输入数据一样\n",
    "    \n",
    "    for i in range(h):\n",
    "        for j in range(w):\n",
    "            window = padding[i:i+kern_h, j:j+kern_w] # 局部窗口\n",
    "            output_2Ddata[i,j] = np.sum(kern*window) # 内积\n",
    "    return output_2Ddata"
   ]
  },
  {
   "cell_type": "code",
   "execution_count": 3,
   "metadata": {},
   "outputs": [],
   "source": [
    "h = 32 # 输入数据的高度\n",
    "w = 48 # 输入数据的宽度\n",
    "in_d = 12 # 输入数据的深度\n",
    "out_d = 24 # 输出数据的深度\n",
    "input_3Ddata = np.random.randn(h, w, in_d) \n",
    "output_3Ddata = np.zeros(shape=(h, w, out_d))"
   ]
  },
  {
   "cell_type": "code",
   "execution_count": 4,
   "metadata": {},
   "outputs": [],
   "source": [
    "(kern_h, kern_w) = (3, 3) # 或者(5, 5)\n",
    "kerns = np.random.randn(out_d, kern_h, kern_w, in_d) # 4D卷积核\n",
    "bias = np.random.randn(out_d) # 1D偏置"
   ]
  },
  {
   "cell_type": "code",
   "execution_count": 5,
   "metadata": {},
   "outputs": [],
   "source": [
    "for m in range(out_d): # 每一个输出2D数据\n",
    "    for k in range(in_d): # 每一个输入2D数据\n",
    "        input_2Ddata = input_3Ddata[:,:, k] # 第k个输入2D数据\n",
    "        kern = kerns[m, :,:, k]\n",
    "        output_3Ddata[:,:, m] += conv2D(input_2Ddata, kern) # 加上每个卷积结果\n",
    "    output_3Ddata[:,:, m] += bias[m] # 每个输出2D数据只有一个偏置"
   ]
  },
  {
   "attachments": {},
   "cell_type": "markdown",
   "metadata": {},
   "source": [
    "3D数据（长×宽×通道）输入 2.0"
   ]
  },
  {
   "cell_type": "code",
   "execution_count": 6,
   "metadata": {},
   "outputs": [],
   "source": [
    "def conv2D(input_2Ddata, kern, in_size, out_size, kern_size=3, stride=1):\n",
    "    (h1, w1) = in_size # 输入数据尺寸\n",
    "    (h2, w2) = out_size # 输出数据尺寸\n",
    "    \n",
    "    output_2Ddata = np.zeros(shape=out_size)\n",
    "    \n",
    "    for i2,i1 in zip(range(h2), range(0, h1, stride)): # 输入数据进行步长\n",
    "        for j2,j1 in zip(range(w2), range(0, w1, stride)):\n",
    "            window = input_2Ddata[i1:i1+kern_size, j1:j1+kern_size] # 局部窗口\n",
    "            output_2Ddata[i2, j2] = np.sum(kern*window) # 内积\n",
    "    return output_2Ddata"
   ]
  },
  {
   "cell_type": "code",
   "execution_count": 7,
   "metadata": {},
   "outputs": [],
   "source": [
    "h1 = 32 # 输入数据高度\n",
    "w1 = 48 # 输入数据宽度\n",
    "d1 = 12 # 输入数据深度\n",
    "input_3Ddata = np.random.randn(h1, w1, d1) "
   ]
  },
  {
   "cell_type": "code",
   "execution_count": 8,
   "metadata": {},
   "outputs": [],
   "source": [
    "S = 2 # 步长\n",
    "F = 3 # 卷积核尺寸\n",
    "d2 = 24 # 输出数据深度"
   ]
  },
  {
   "cell_type": "code",
   "execution_count": 9,
   "metadata": {},
   "outputs": [],
   "source": [
    "P = (F-1)//2 # 填充尺寸\n",
    "h2 = (h1-F+2*P)//S + 1 # 输出数据高度\n",
    "w2 = (w1-F+2*P)//S + 1 # 输出数据宽度\n",
    "padding = np.zeros(shape=(h1+2*P, w1+2*P, d1)) # 0填充\n",
    "padding[P:-P, P:-P, :] = input_3Ddata\n",
    "output_3Ddata = np.zeros(shape=(h2, w2, d2))\n",
    "kerns = np.random.randn(d2, F, F, d1) # 4D卷积核\n",
    "bias = np.random.randn(d2) # 1D偏置"
   ]
  },
  {
   "cell_type": "code",
   "execution_count": 10,
   "metadata": {},
   "outputs": [],
   "source": [
    "for m in range(d2): # 每个输出2D数据\n",
    "    for k in range(d1): # 每个输入2D数据\n",
    "        input_2Ddata = padding[:,:, k] # 第k个输入2D数据\n",
    "        kern = kerns[m, :,:, k] # 卷积核\n",
    "        output_3Ddata[:,:, m] += conv2D(input_2Ddata, kern, \n",
    "        in_size=(h1, w1), out_size=(h2, w2), kern_size=F, stride=S) # 加上每个卷积结果\n",
    "        \n",
    "    output_3Ddata[:,:, m] += bias[m] # 每个输出2D数据只有一个偏置"
   ]
  }
 ],
 "metadata": {
  "kernelspec": {
   "display_name": "Python 3",
   "language": "python",
   "name": "python3"
  },
  "language_info": {
   "codemirror_mode": {
    "name": "ipython",
    "version": 3
   },
   "file_extension": ".py",
   "mimetype": "text/x-python",
   "name": "python",
   "nbconvert_exporter": "python",
   "pygments_lexer": "ipython3",
   "version": "3.7.9"
  },
  "orig_nbformat": 4
 },
 "nbformat": 4,
 "nbformat_minor": 2
}
