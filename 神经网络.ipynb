{
 "cells": [
  {
   "cell_type": "code",
   "execution_count": 1,
   "metadata": {},
   "outputs": [],
   "source": [
    "import numpy as np"
   ]
  },
  {
   "cell_type": "code",
   "execution_count": 2,
   "metadata": {},
   "outputs": [],
   "source": [
    "# 神经网络\n",
    "D = 784 # 特征数量\n",
    "K = 10 # 分类标签\n",
    "N = 128 # 样本数量\n",
    "dim1 = 128 # 神经元个数\n",
    "dim2 = 36 "
   ]
  },
  {
   "cell_type": "code",
   "execution_count": 3,
   "metadata": {},
   "outputs": [],
   "source": [
    "# 定义权重以及参数矩阵\n",
    "w1 = 0.01 *np.random.randn(D, dim1)\n",
    "b1 = np.zeros((1, dim1))\n",
    "w2 = 0.01 *np.random.randn(dim1, dim2)\n",
    "b2 = np.zeros((1, dim2))\n",
    "w3 = 0.01 *np.random.randn(dim2, K)\n",
    "b3 = np.zeros((1, K))"
   ]
  },
  {
   "cell_type": "code",
   "execution_count": 4,
   "metadata": {},
   "outputs": [],
   "source": [
    "X = np.random.randn(N, D) # 数据矩阵,每行一个样本\n",
    "hidden_layer1 = np.maximum(0, np.dot(X, w1) + b1)# ReLU激活\n",
    "hidden_layer2 = np.maximum(0, np.dot (hidden_layer1, w2) + b2)# ReLU激活\n",
    "scores = np.dot(hidden_layer2, w3) +b3 # 输出层不需要激活"
   ]
  },
  {
   "cell_type": "code",
   "execution_count": null,
   "metadata": {},
   "outputs": [],
   "source": []
  }
 ],
 "metadata": {
  "kernelspec": {
   "display_name": "Python 3",
   "language": "python",
   "name": "python3"
  },
  "language_info": {
   "codemirror_mode": {
    "name": "ipython",
    "version": 3
   },
   "file_extension": ".py",
   "mimetype": "text/x-python",
   "name": "python",
   "nbconvert_exporter": "python",
   "pygments_lexer": "ipython3",
   "version": "3.7.9"
  },
  "orig_nbformat": 4
 },
 "nbformat": 4,
 "nbformat_minor": 2
}
